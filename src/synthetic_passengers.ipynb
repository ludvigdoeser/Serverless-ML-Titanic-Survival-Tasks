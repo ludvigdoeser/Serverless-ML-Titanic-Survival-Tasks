{
 "cells": [
  {
   "cell_type": "code",
   "execution_count": 1,
   "id": "1a25d6b2",
   "metadata": {},
   "outputs": [],
   "source": [
    "import random\n",
    "import pandas as pd\n",
    "\n",
    "df = pd.read_csv('../data/titanic.csv')"
   ]
  },
  {
   "cell_type": "markdown",
   "id": "fa45a43f",
   "metadata": {},
   "source": [
    "## Passengers with parents/children"
   ]
  },
  {
   "cell_type": "code",
   "execution_count": 2,
   "id": "ae036ace",
   "metadata": {},
   "outputs": [
    {
     "name": "stdout",
     "output_type": "stream",
     "text": [
      "Percentage of passengers with 0 parents/children:  0.7296918767507002\n",
      "Ranges when sampling synthetic passenger: [0.000000,0.729692] \n",
      "\n",
      "Percentage of passengers with 1 parents/children:  0.15406162464985995\n",
      "Ranges when sampling synthetic passenger: [0.729692,0.883754] \n",
      "\n",
      "Percentage of passengers with 2 parents/children:  0.09523809523809523\n",
      "Ranges when sampling synthetic passenger: [0.883754,0.978992] \n",
      "\n",
      "Percentage of passengers with 3 parents/children:  0.0070028011204481795\n",
      "Ranges when sampling synthetic passenger: [0.978992,0.985994] \n",
      "\n",
      "Percentage of passengers with 4 parents/children:  0.0056022408963585435\n",
      "Ranges when sampling synthetic passenger: [0.985994,0.991597] \n",
      "\n",
      "Percentage of passengers with 5 parents/children:  0.0070028011204481795\n",
      "Ranges when sampling synthetic passenger: [0.991597,0.998599] \n",
      "\n",
      "Percentage of passengers with 6 parents/children:  0.0014005602240896359\n",
      "Ranges when sampling synthetic passenger: [0.998599,1.000000] \n",
      "\n"
     ]
    }
   ],
   "source": [
    "x_prev = 0\n",
    "for i in range(0,7):\n",
    "    x_new = len(df.parch[df.parch==i])/len(df.parch)\n",
    "    print(f'Percentage of passengers with {i} parents/children: ',x_new)\n",
    "    x = x_new + x_prev\n",
    "    print('Ranges when sampling synthetic passenger: [{:.6f},{:.6f}] \\n'.format(x_prev,x))\n",
    "    x_prev = x"
   ]
  },
  {
   "cell_type": "markdown",
   "id": "4b4d4cb5",
   "metadata": {},
   "source": [
    "## Passengers with siblings/spouse"
   ]
  },
  {
   "cell_type": "code",
   "execution_count": 6,
   "id": "f06cca27",
   "metadata": {},
   "outputs": [
    {
     "name": "stdout",
     "output_type": "stream",
     "text": [
      "Percentage of passengers with 0 siblings/spouse:  0.6596638655462185\n",
      "Ranges when sampling synthetic passenger: [0.000000,0.659664] \n",
      "\n",
      "Percentage of passengers with 1 siblings/spouse:  0.25630252100840334\n",
      "Ranges when sampling synthetic passenger: [0.659664,0.915966] \n",
      "\n",
      "Percentage of passengers with 2 siblings/spouse:  0.0350140056022409\n",
      "Ranges when sampling synthetic passenger: [0.915966,0.950980] \n",
      "\n",
      "Percentage of passengers with 3 siblings/spouse:  0.01680672268907563\n",
      "Ranges when sampling synthetic passenger: [0.950980,0.967787] \n",
      "\n",
      "Percentage of passengers with 4 siblings/spouse:  0.025210084033613446\n",
      "Ranges when sampling synthetic passenger: [0.967787,0.992997] \n",
      "\n",
      "Percentage of passengers with 5 siblings/spouse:  0.0070028011204481795\n",
      "Ranges when sampling synthetic passenger: [0.992997,1.000000] \n",
      "\n"
     ]
    }
   ],
   "source": [
    "x_prev = 0\n",
    "for i in range(0,6):\n",
    "    x_new = len(df.sibsp[df.sibsp==i])/len(df.parch)\n",
    "    print(f'Percentage of passengers with {i} siblings/spouse: ',x_new)\n",
    "    x = x_new + x_prev\n",
    "    print('Ranges when sampling synthetic passenger: [{:.6f},{:.6f}] \\n'.format(x_prev,x))\n",
    "    x_prev = x"
   ]
  }
 ],
 "metadata": {
  "kernelspec": {
   "display_name": "Python 3 (ipykernel)",
   "language": "python",
   "name": "python3"
  },
  "language_info": {
   "codemirror_mode": {
    "name": "ipython",
    "version": 3
   },
   "file_extension": ".py",
   "mimetype": "text/x-python",
   "name": "python",
   "nbconvert_exporter": "python",
   "pygments_lexer": "ipython3",
   "version": "3.10.8"
  }
 },
 "nbformat": 4,
 "nbformat_minor": 5
}
